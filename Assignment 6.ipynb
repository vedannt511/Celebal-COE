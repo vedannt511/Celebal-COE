{
  "nbformat": 4,
  "nbformat_minor": 0,
  "metadata": {
    "colab": {
      "provenance": []
    },
    "kernelspec": {
      "name": "python3",
      "display_name": "Python 3"
    },
    "language_info": {
      "name": "python"
    }
  },
  "cells": [
    {
      "cell_type": "code",
      "execution_count": null,
      "metadata": {
        "id": "szXUrDmZqgFr"
      },
      "outputs": [],
      "source": [
        "# @title Imports\n",
        "import numpy as np\n",
        "import pandas as pd\n",
        "import matplotlib.pyplot as plt\n",
        "import seaborn as sns"
      ]
    },
    {
      "cell_type": "code",
      "source": [
        "# @title Generating Data\n",
        "\n",
        "# Set random seed\n",
        "np.random.seed(124)\n",
        "\n",
        "# Creating the dataframe\n",
        "age = np.random.normal(loc=60, scale=14, size=150)\n",
        "height = np.random.normal(loc=175, scale=20, size=150)\n",
        "weight = np.random.normal(loc=90, scale=13, size=150)\n",
        "data = pd.DataFrame({'age': age, 'height': height, 'weight': weight})\n",
        "\n",
        "# Assigning missing data\n",
        "data.iloc[2, 0] = np.nan\n",
        "data.iloc[10, 1] = np.nan\n",
        "data.iloc[20, 2] = np.nan\n",
        "data.iloc[30, 0] = np.nan\n",
        "data.iloc[40, 1] = np.nan\n",
        "\n",
        "# Identifying missing data and replacing them with mode of the column\n",
        "for col in data.columns:\n",
        "    mode_val = data[col].mode()[0]\n",
        "    data[col].fillna(mode_val, inplace=True)\n",
        "\n",
        "# Detecting outlier data in the age column using the boxplot method\n",
        "fig, ax = plt.subplots()\n",
        "ax.boxplot(data['age'])\n",
        "ax.set_ylabel('Age')\n",
        "plt.show()\n",
        "\n",
        "# Removing the corresponding row with outlier age data from the dataframe\n",
        "q1 = data['age'].quantile(0.25)\n",
        "q3 = data['age'].quantile(0.75)\n",
        "iqr = q3 - q1\n",
        "outlier_threshold_up = q3 + 1.5 * iqr\n",
        "outlier_threshold_down = q1 - 1.5 * iqr\n",
        "data = data[data['age'] <= outlier_threshold_up]\n",
        "data = data[data['age'] >= outlier_threshold_down]\n",
        "\n",
        "# Print the cleaned data\n",
        "print(data)"
      ],
      "metadata": {
        "colab": {
          "base_uri": "https://localhost:8080/",
          "height": 673
        },
        "id": "eg8DofjKrA5V",
        "outputId": "262d6dad-6e74-4153-9667-52201559309d"
      },
      "execution_count": 6,
      "outputs": [
        {
          "output_type": "display_data",
          "data": {
            "text/plain": [
              "<Figure size 640x480 with 1 Axes>"
            ],
            "image/png": "[encoded data removed]"
          },
          "metadata": {}
        },
        {
          "output_type": "stream",
          "name": "stdout",
          "text": [
            "           age      height      weight\n",
            "0    64.038707  163.791795   74.565294\n",
            "1    53.518643  186.005573   93.784553\n",
            "3    92.438219  200.568930  113.814633\n",
            "4    39.456737  179.391274   77.562357\n",
            "5    49.520332  174.102367   92.193848\n",
            "..         ...         ...         ...\n",
            "145  36.087855  192.669769   77.300172\n",
            "146  70.453956  170.626017   75.621063\n",
            "147  66.022608  153.861977   95.790444\n",
            "148  56.723037  145.962111   80.689105\n",
            "149  54.213848  176.749704   79.583469\n",
            "\n",
            "[147 rows x 3 columns]\n"
          ]
        }
      ]
    }
  ]
}